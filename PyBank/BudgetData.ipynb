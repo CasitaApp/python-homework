{
 "cells": [
  {
   "cell_type": "code",
   "execution_count": 59,
   "id": "7e74b525-f615-4f5e-8066-bb4174843413",
   "metadata": {},
   "outputs": [],
   "source": [
    "from pathlib import Path\n",
    "import csv\n"
   ]
  },
  {
   "cell_type": "code",
   "execution_count": 60,
   "id": "f01fadaf-e552-4935-98c7-89e395fe8a86",
   "metadata": {},
   "outputs": [],
   "source": [
    "csvpath = Path('budget_data.csv')\n"
   ]
  },
  {
   "cell_type": "code",
   "execution_count": 137,
   "id": "f68e3282-3abc-4610-ac7d-cf08cb497a31",
   "metadata": {},
   "outputs": [
    {
     "name": "stdout",
     "output_type": "stream",
     "text": [
      "Financial Analysis \n",
      "----------------------------- \n",
      "Total Months: 86\n",
      "Total: $38382578\n",
      "Average Change: $-2315.12\n",
      "Greatest Increase in Profits: Feb-2012 ($1926159) \n",
      "Greatest Decrease in Profits: Sep-2013 ($-2196167) \n",
      "\n"
     ]
    }
   ],
   "source": [
    "line_num = 0\n",
    "profits = []\n",
    "profit = 0\n",
    "date = 0\n",
    "dates = []\n",
    "with open(csvpath, 'r') as csvfile:\n",
    "   ## print(type(csvfile))\n",
    "    csvreader = csv.reader(csvfile, delimiter=\",\")\n",
    "   ## print(type(csvreader))\n",
    "    header = next(csvreader)\n",
    "    line_num += 1\n",
    "   ## print(f\"{header}\")\n",
    "    for row in csvreader:\n",
    "       #print(row)\n",
    "        profit = int(row[1])\n",
    "        profits.append(profit)\n",
    "        date = row[0]\n",
    "        dates.append(date)\n",
    "        \n",
    "        \n",
    "total_months = 0\n",
    "total = 0\n",
    "max_increase_value = 0\n",
    "max_decrease_value = 0\n",
    "previous_profit = profits[0]\n",
    "avg_change = 0\n",
    "index_max = 0\n",
    "index_min = 0\n",
    "\n",
    "for profit in profits:\n",
    "    total_months += 1\n",
    "    total += profit\n",
    "      \n",
    "for profit in profits[1:]:\n",
    "    diff = profit - previous_profit\n",
    "    if diff > max_increase_value:\n",
    "        max_increase_value = diff\n",
    "        index_max = profits.index(profit)\n",
    "    elif diff < max_decrease_value:\n",
    "        max_decrease_value = diff\n",
    "        index_min = profits.index(profit)\n",
    "    previous_profit = profit\n",
    "    \n",
    "\n",
    "    \n",
    "avg_change = round((profits[-1] - profits[0]) / (len(profits)-1), 2)\n",
    "\n",
    "\n",
    "analysis = \"Financial Analysis \\n\"\n",
    "analysis += \"----------------------------- \\n\"\n",
    "analysis += \"Total Months: \" + str(total_months) + \"\\n\"\n",
    "analysis += \"Total: $\" + str(total) + \"\\n\"\n",
    "analysis += \"Average Change: $\" + str(avg_change) + \"\\n\"\n",
    "analysis += \"Greatest Increase in Profits: \" + dates[index_max] + \" ($\" + str(max_increase_value) + \") \\n\"\n",
    "analysis += \"Greatest Decrease in Profits: \" + dates[index_min] + \" ($\" + str(max_decrease_value) + \") \\n\"\n",
    "\n",
    "print(analysis)\n",
    "with open(\"results.txt\", \"w\") as file:\n",
    "    # Write the results to the file\n",
    "    file.write(analysis)"
   ]
  },
  {
   "cell_type": "code",
   "execution_count": null,
   "id": "f695a74b-f6bd-44e2-bac4-69a7d6b24b35",
   "metadata": {},
   "outputs": [],
   "source": []
  }
 ],
 "metadata": {
  "kernelspec": {
   "display_name": "Python 3 (ipykernel)",
   "language": "python",
   "name": "python3"
  },
  "language_info": {
   "codemirror_mode": {
    "name": "ipython",
    "version": 3
   },
   "file_extension": ".py",
   "mimetype": "text/x-python",
   "name": "python",
   "nbconvert_exporter": "python",
   "pygments_lexer": "ipython3",
   "version": "3.9.13"
  }
 },
 "nbformat": 4,
 "nbformat_minor": 5
}
